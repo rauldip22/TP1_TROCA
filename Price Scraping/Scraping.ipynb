{
 "cells": [
  {
   "cell_type": "code",
   "execution_count": 1,
   "metadata": {},
   "outputs": [],
   "source": [
    "import pandas as pd\n",
    "from selenium import webdriver\n",
    "import time\n",
    "from tqdm import tqdm"
   ]
  },
  {
   "cell_type": "code",
   "execution_count": 66,
   "metadata": {},
   "outputs": [],
   "source": [
    "def adapt_number(x):\n",
    "    if isinstance(x, str):\n",
    "        return x.replace('.','').replace(',','.')\n",
    "    else:\n",
    "        return x"
   ]
  },
  {
   "cell_type": "code",
   "execution_count": 2,
   "metadata": {},
   "outputs": [],
   "source": [
    "pd.options.display.max_columns = 25"
   ]
  },
  {
   "cell_type": "code",
   "execution_count": 3,
   "metadata": {},
   "outputs": [],
   "source": [
    "#● “viewed product”:​ El usuario visita una página de producto. \n",
    "#● “brand listing”:​ El usuario visita un listado específico de una marca viendo un conjunto de productos. \n",
    "#● “visited site”:​ El usuario ingresa al sitio a una determinada url. \n",
    "#● “ad campaign hit”:​ El usuario ingresa al sitio mediante una campana de marketing online. \n",
    "#● “generic listing”:​ El usuario visita la homepage. \n",
    "#● “searched products”: ​El usuario realiza una búsqueda de productos en la interfaz de búsqueda del site. \n",
    "#● “search engine hit”:​ El usuario ingresa al sitio mediante un motor de búsqueda web. \n",
    "#● “checkout”:​ El usuario ingresa al checkout de compra de un producto. \n",
    "#● “staticpage”:​ El usuario visita una página \n",
    "#● “conversion”:​ El usuario realiza una conversión, comprando un producto. \n",
    "#● “lead”: ​El usuario se registra para recibir una notificación de disponibilidad de stock, para un producto que no se encontraba disponible en ese momento. "
   ]
  },
  {
   "cell_type": "code",
   "execution_count": 11,
   "metadata": {},
   "outputs": [],
   "source": [
    "driver = webdriver.Chrome('C:\\\\Users\\\\raul.alberto.dip\\\\Desktop\\\\chromedriver.exe')"
   ]
  },
  {
   "cell_type": "code",
   "execution_count": null,
   "metadata": {},
   "outputs": [],
   "source": [
    "#CARGAR MANUALMENTE CADA UNA DE LAS 6 URL DE LAS MARCAS"
   ]
  },
  {
   "cell_type": "code",
   "execution_count": 131,
   "metadata": {},
   "outputs": [],
   "source": [
    "driver.get('https://www.trocafone.com/comprar/asus')"
   ]
  },
  {
   "cell_type": "code",
   "execution_count": 132,
   "metadata": {},
   "outputs": [],
   "source": [
    "#CARGAR EN EL NAVEGADOR TODOS PRODUCTOS"
   ]
  },
  {
   "cell_type": "code",
   "execution_count": 137,
   "metadata": {},
   "outputs": [],
   "source": [
    "products = driver.find_elements_by_tag_name('article')"
   ]
  },
  {
   "cell_type": "code",
   "execution_count": 138,
   "metadata": {},
   "outputs": [],
   "source": [
    "urls = [i.find_element_by_tag_name(\"a\").get_attribute(\"href\") for i in products if ((\"backoffice\" not in i.find_element_by_tag_name(\"a\").get_attribute(\"href\")) and (\"monolith\" not in i.find_element_by_tag_name(\"a\").get_attribute(\"href\")))]"
   ]
  },
  {
   "cell_type": "code",
   "execution_count": 139,
   "metadata": {},
   "outputs": [
    {
     "name": "stdout",
     "output_type": "stream",
     "text": [
      "['https://www.trocafone.com/comprar/asus/zenfone-6#999-asus-zenfone-6-vermelho']\n"
     ]
    }
   ],
   "source": [
    "print (urls)"
   ]
  },
  {
   "cell_type": "code",
   "execution_count": 140,
   "metadata": {},
   "outputs": [
    {
     "data": {
      "text/plain": [
       "1"
      ]
     },
     "execution_count": 140,
     "metadata": {},
     "output_type": "execute_result"
    }
   ],
   "source": [
    "len(urls)"
   ]
  },
  {
   "cell_type": "code",
   "execution_count": 141,
   "metadata": {},
   "outputs": [
    {
     "name": "stderr",
     "output_type": "stream",
     "text": [
      "100%|████████████████████████████████████████████████████████████████████████████████████| 1/1 [00:28<00:00, 28.81s/it]\n"
     ]
    }
   ],
   "source": [
    "models_asus = pd.DataFrame(columns = ['model', 'state', 'price'])\n",
    "for x in tqdm(urls):\n",
    "    try:\n",
    "        driver.get(x)\n",
    "        time.sleep(1)\n",
    "        titulo = driver.find_element_by_class_name(\"js-product-name\").text\n",
    "        precios = []\n",
    "        estados = []\n",
    "        titulos = []\n",
    "        for i in driver.find_elements_by_class_name(\"condition-container\"):\n",
    "            estados.append(i.text)\n",
    "            titulos.append(titulo)\n",
    "            i.click()\n",
    "            time.sleep(1)\n",
    "            precios.append(driver.find_element_by_class_name(\"js-trocable-invoice-current-price\").text)\n",
    "        #apendear un df grande con todo\n",
    "        model_price = pd.DataFrame({\n",
    "        'model' : titulos,\n",
    "        'state' : estados,\n",
    "        'price' : precios\n",
    "        })\n",
    "        models_asus = models_asus.append(model_price, ignore_index = True, sort = True)\n",
    "    except:\n",
    "        continue\n",
    "    "
   ]
  },
  {
   "cell_type": "code",
   "execution_count": 142,
   "metadata": {},
   "outputs": [
    {
     "data": {
      "text/plain": [
       "['Excelente', 'Muito Bom', 'Bom']"
      ]
     },
     "execution_count": 142,
     "metadata": {},
     "output_type": "execute_result"
    }
   ],
   "source": [
    "estados"
   ]
  },
  {
   "cell_type": "code",
   "execution_count": 143,
   "metadata": {},
   "outputs": [
    {
     "data": {
      "text/plain": [
       "['', '', '709,00']"
      ]
     },
     "execution_count": 143,
     "metadata": {},
     "output_type": "execute_result"
    }
   ],
   "source": [
    "precios"
   ]
  },
  {
   "cell_type": "code",
   "execution_count": 144,
   "metadata": {},
   "outputs": [
    {
     "data": {
      "text/plain": [
       "['Excelente', 'Muito Bom', 'Bom']"
      ]
     },
     "execution_count": 144,
     "metadata": {},
     "output_type": "execute_result"
    }
   ],
   "source": [
    "estados"
   ]
  },
  {
   "cell_type": "code",
   "execution_count": 145,
   "metadata": {},
   "outputs": [
    {
     "data": {
      "text/plain": [
       "['Asus Zenfone 6 Vermelho',\n",
       " 'Asus Zenfone 6 Vermelho',\n",
       " 'Asus Zenfone 6 Vermelho']"
      ]
     },
     "execution_count": 145,
     "metadata": {},
     "output_type": "execute_result"
    }
   ],
   "source": [
    "titulos"
   ]
  },
  {
   "cell_type": "code",
   "execution_count": 147,
   "metadata": {},
   "outputs": [
    {
     "data": {
      "text/html": [
       "<div>\n",
       "<style scoped>\n",
       "    .dataframe tbody tr th:only-of-type {\n",
       "        vertical-align: middle;\n",
       "    }\n",
       "\n",
       "    .dataframe tbody tr th {\n",
       "        vertical-align: top;\n",
       "    }\n",
       "\n",
       "    .dataframe thead th {\n",
       "        text-align: right;\n",
       "    }\n",
       "</style>\n",
       "<table border=\"1\" class=\"dataframe\">\n",
       "  <thead>\n",
       "    <tr style=\"text-align: right;\">\n",
       "      <th></th>\n",
       "      <th>model</th>\n",
       "      <th>price</th>\n",
       "      <th>state</th>\n",
       "    </tr>\n",
       "  </thead>\n",
       "  <tbody>\n",
       "    <tr>\n",
       "      <th>0</th>\n",
       "      <td>Asus Zenfone 6 Vermelho</td>\n",
       "      <td></td>\n",
       "      <td>Excelente</td>\n",
       "    </tr>\n",
       "    <tr>\n",
       "      <th>1</th>\n",
       "      <td>Asus Zenfone 6 Vermelho</td>\n",
       "      <td></td>\n",
       "      <td>Muito Bom</td>\n",
       "    </tr>\n",
       "    <tr>\n",
       "      <th>2</th>\n",
       "      <td>Asus Zenfone 6 Vermelho</td>\n",
       "      <td>709,00</td>\n",
       "      <td>Bom</td>\n",
       "    </tr>\n",
       "  </tbody>\n",
       "</table>\n",
       "</div>"
      ],
      "text/plain": [
       "                     model   price      state\n",
       "0  Asus Zenfone 6 Vermelho          Excelente\n",
       "1  Asus Zenfone 6 Vermelho          Muito Bom\n",
       "2  Asus Zenfone 6 Vermelho  709,00        Bom"
      ]
     },
     "execution_count": 147,
     "metadata": {},
     "output_type": "execute_result"
    }
   ],
   "source": [
    "models_asus"
   ]
  },
  {
   "cell_type": "code",
   "execution_count": 148,
   "metadata": {},
   "outputs": [],
   "source": [
    "models_asus.to_csv('asus prices.csv')"
   ]
  },
  {
   "cell_type": "code",
   "execution_count": 1,
   "metadata": {},
   "outputs": [],
   "source": [
    "import pandas as pd"
   ]
  },
  {
   "cell_type": "code",
   "execution_count": 68,
   "metadata": {},
   "outputs": [],
   "source": [
    "master_prices = pd.DataFrame(columns = ['model', 'state', 'price'])"
   ]
  },
  {
   "cell_type": "code",
   "execution_count": 69,
   "metadata": {},
   "outputs": [
    {
     "data": {
      "text/html": [
       "<div>\n",
       "<style scoped>\n",
       "    .dataframe tbody tr th:only-of-type {\n",
       "        vertical-align: middle;\n",
       "    }\n",
       "\n",
       "    .dataframe tbody tr th {\n",
       "        vertical-align: top;\n",
       "    }\n",
       "\n",
       "    .dataframe thead th {\n",
       "        text-align: right;\n",
       "    }\n",
       "</style>\n",
       "<table border=\"1\" class=\"dataframe\">\n",
       "  <thead>\n",
       "    <tr style=\"text-align: right;\">\n",
       "      <th></th>\n",
       "      <th>model</th>\n",
       "      <th>state</th>\n",
       "      <th>price</th>\n",
       "    </tr>\n",
       "  </thead>\n",
       "  <tbody>\n",
       "  </tbody>\n",
       "</table>\n",
       "</div>"
      ],
      "text/plain": [
       "Empty DataFrame\n",
       "Columns: [model, state, price]\n",
       "Index: []"
      ]
     },
     "execution_count": 69,
     "metadata": {},
     "output_type": "execute_result"
    }
   ],
   "source": [
    "master_prices"
   ]
  },
  {
   "cell_type": "code",
   "execution_count": 70,
   "metadata": {},
   "outputs": [],
   "source": [
    "iphone_prices = pd.read_csv('iphone prices.csv', index_col=0)\n",
    "samasung_prices = pd.read_csv('samsung prices.csv', index_col=0)\n",
    "motorola_prices = pd.read_csv('motorola prices.csv', index_col=0)\n",
    "lg_prices = pd.read_csv('lg prices.csv', index_col=0)\n",
    "sony_prices = pd.read_csv('sony prices.csv', index_col=0)\n",
    "asus_prices = pd.read_csv('asus prices.csv', index_col=0)"
   ]
  },
  {
   "cell_type": "code",
   "execution_count": 71,
   "metadata": {},
   "outputs": [],
   "source": [
    "master_prices = master_prices.append([iphone_prices,samasung_prices,motorola_prices,lg_prices,sony_prices,asus_prices],ignore_index = True, sort = True)"
   ]
  },
  {
   "cell_type": "code",
   "execution_count": 72,
   "metadata": {},
   "outputs": [
    {
     "data": {
      "text/html": [
       "<div>\n",
       "<style scoped>\n",
       "    .dataframe tbody tr th:only-of-type {\n",
       "        vertical-align: middle;\n",
       "    }\n",
       "\n",
       "    .dataframe tbody tr th {\n",
       "        vertical-align: top;\n",
       "    }\n",
       "\n",
       "    .dataframe thead th {\n",
       "        text-align: right;\n",
       "    }\n",
       "</style>\n",
       "<table border=\"1\" class=\"dataframe\">\n",
       "  <thead>\n",
       "    <tr style=\"text-align: right;\">\n",
       "      <th></th>\n",
       "      <th>model</th>\n",
       "      <th>price</th>\n",
       "      <th>state</th>\n",
       "    </tr>\n",
       "  </thead>\n",
       "  <tbody>\n",
       "    <tr>\n",
       "      <th>0</th>\n",
       "      <td>iPhone SE 16GB Cinza Espacial</td>\n",
       "      <td>1.149,00</td>\n",
       "      <td>Excelente</td>\n",
       "    </tr>\n",
       "    <tr>\n",
       "      <th>1</th>\n",
       "      <td>iPhone SE 16GB Cinza Espacial</td>\n",
       "      <td>1.059,00</td>\n",
       "      <td>Muito Bom</td>\n",
       "    </tr>\n",
       "    <tr>\n",
       "      <th>2</th>\n",
       "      <td>iPhone SE 16GB Cinza Espacial</td>\n",
       "      <td>979,00</td>\n",
       "      <td>Bom</td>\n",
       "    </tr>\n",
       "    <tr>\n",
       "      <th>3</th>\n",
       "      <td>iPhone SE 16GB Cinza Espacial</td>\n",
       "      <td>NaN</td>\n",
       "      <td>Bom - Sem Touch ID</td>\n",
       "    </tr>\n",
       "    <tr>\n",
       "      <th>4</th>\n",
       "      <td>Iphone 6S 16GB Cinza Espacial</td>\n",
       "      <td>1.699,00</td>\n",
       "      <td>Excelente</td>\n",
       "    </tr>\n",
       "  </tbody>\n",
       "</table>\n",
       "</div>"
      ],
      "text/plain": [
       "                           model     price               state\n",
       "0  iPhone SE 16GB Cinza Espacial  1.149,00           Excelente\n",
       "1  iPhone SE 16GB Cinza Espacial  1.059,00           Muito Bom\n",
       "2  iPhone SE 16GB Cinza Espacial    979,00                 Bom\n",
       "3  iPhone SE 16GB Cinza Espacial       NaN  Bom - Sem Touch ID\n",
       "4  Iphone 6S 16GB Cinza Espacial  1.699,00           Excelente"
      ]
     },
     "execution_count": 72,
     "metadata": {},
     "output_type": "execute_result"
    }
   ],
   "source": [
    "master_prices.head()"
   ]
  },
  {
   "cell_type": "code",
   "execution_count": 73,
   "metadata": {},
   "outputs": [],
   "source": [
    "master_prices['price'] = pd.to_numeric(master_prices['price'].apply(lambda x : adapt_number(x)))"
   ]
  },
  {
   "cell_type": "code",
   "execution_count": 79,
   "metadata": {},
   "outputs": [],
   "source": [
    "master_prices['price'] = master_prices.groupby('model')['price'].transform(lambda x: x.fillna(x.mean()).round(2))"
   ]
  },
  {
   "cell_type": "code",
   "execution_count": 80,
   "metadata": {},
   "outputs": [
    {
     "data": {
      "text/plain": [
       "0      1149.00\n",
       "1      1059.00\n",
       "2       979.00\n",
       "3      1062.33\n",
       "4      1699.00\n",
       "5      1539.00\n",
       "6      1619.00\n",
       "7      1619.00\n",
       "8      2429.00\n",
       "9      2379.00\n",
       "10     2209.00\n",
       "11     2429.00\n",
       "12     2379.00\n",
       "13     2209.00\n",
       "14     1029.00\n",
       "15     1059.00\n",
       "16     1029.00\n",
       "17      999.00\n",
       "18      799.00\n",
       "19      739.00\n",
       "20      659.00\n",
       "21     1379.00\n",
       "22     1259.00\n",
       "23     1129.00\n",
       "24     1255.67\n",
       "25      569.00\n",
       "26      569.00\n",
       "27      569.00\n",
       "28      739.00\n",
       "29      739.00\n",
       "        ...   \n",
       "564     669.00\n",
       "565     679.00\n",
       "566     659.00\n",
       "567     619.00\n",
       "568     619.00\n",
       "569     619.00\n",
       "570        NaN\n",
       "571        NaN\n",
       "572        NaN\n",
       "573     719.00\n",
       "574     719.00\n",
       "575     719.00\n",
       "576    1089.00\n",
       "577    1089.00\n",
       "578    1089.00\n",
       "579    1199.00\n",
       "580    1199.00\n",
       "581    1199.00\n",
       "582     869.00\n",
       "583     869.00\n",
       "584     869.00\n",
       "585    1209.00\n",
       "586    1209.00\n",
       "587    1209.00\n",
       "588        NaN\n",
       "589        NaN\n",
       "590        NaN\n",
       "591     709.00\n",
       "592     709.00\n",
       "593     709.00\n",
       "Name: price, Length: 594, dtype: float64"
      ]
     },
     "execution_count": 80,
     "metadata": {},
     "output_type": "execute_result"
    }
   ],
   "source": [
    "master_prices['price']"
   ]
  },
  {
   "cell_type": "code",
   "execution_count": 81,
   "metadata": {},
   "outputs": [],
   "source": [
    "master_prices.to_csv('scraped_prices.csv')"
   ]
  },
  {
   "cell_type": "code",
   "execution_count": null,
   "metadata": {},
   "outputs": [],
   "source": []
  }
 ],
 "metadata": {
  "kernelspec": {
   "display_name": "Python 3",
   "language": "python",
   "name": "python3"
  },
  "language_info": {
   "codemirror_mode": {
    "name": "ipython",
    "version": 3
   },
   "file_extension": ".py",
   "mimetype": "text/x-python",
   "name": "python",
   "nbconvert_exporter": "python",
   "pygments_lexer": "ipython3",
   "version": "3.6.4"
  }
 },
 "nbformat": 4,
 "nbformat_minor": 2
}
